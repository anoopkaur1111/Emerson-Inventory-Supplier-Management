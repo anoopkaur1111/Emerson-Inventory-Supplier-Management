{
 "cells": [
  {
   "cell_type": "markdown",
   "id": "ff00870d",
   "metadata": {},
   "source": [
    "Importing libraries"
   ]
  },
  {
   "cell_type": "code",
   "execution_count": 2,
   "id": "11d54d4a",
   "metadata": {},
   "outputs": [],
   "source": [
    "import pandas as pd\n",
    "import numpy as np\n",
    "import seaborn as sns\n",
    "import matplotlib.pyplot as plt\n",
    "from sklearn.impute import SimpleImputer\n",
    "import matplotlib.patches as mpatches"
   ]
  },
  {
   "cell_type": "markdown",
   "id": "726e5e72",
   "metadata": {},
   "source": [
    "Importing dataset (Overseas_Flag file is where we created boolean field based on supplier location)"
   ]
  },
  {
   "cell_type": "code",
   "execution_count": 5,
   "id": "efec26d1",
   "metadata": {},
   "outputs": [],
   "source": [
    "planning_report = pd.read_excel(\"Planning Parameter Report.xlsx\")\n",
    "inventory_report = pd.read_excel(\"Inventory On Hand Report.xlsx\")\n",
    "usage_history = pd.read_excel(\"Component Usage History (Last 52 Weeks).xlsx\")\n",
    "overseas_report = pd.read_excel(\"Planning_Parameter_Report_With_Overseas_Flag.xlsx\")"
   ]
  },
  {
   "cell_type": "code",
   "execution_count": 6,
   "id": "7f25c0dc",
   "metadata": {},
   "outputs": [
    {
     "data": {
      "text/html": [
       "<div>\n",
       "<style scoped>\n",
       "    .dataframe tbody tr th:only-of-type {\n",
       "        vertical-align: middle;\n",
       "    }\n",
       "\n",
       "    .dataframe tbody tr th {\n",
       "        vertical-align: top;\n",
       "    }\n",
       "\n",
       "    .dataframe thead th {\n",
       "        text-align: right;\n",
       "    }\n",
       "</style>\n",
       "<table border=\"1\" class=\"dataframe\">\n",
       "  <thead>\n",
       "    <tr style=\"text-align: right;\">\n",
       "      <th></th>\n",
       "      <th>Item_Number</th>\n",
       "      <th>PrimeVendor</th>\n",
       "      <th>PrimeVendorNumber</th>\n",
       "      <th>Overseas_Flag</th>\n",
       "    </tr>\n",
       "  </thead>\n",
       "  <tbody>\n",
       "    <tr>\n",
       "      <th>0</th>\n",
       "      <td>5910C</td>\n",
       "      <td>NaN</td>\n",
       "      <td>NaN</td>\n",
       "      <td>no</td>\n",
       "    </tr>\n",
       "    <tr>\n",
       "      <th>1</th>\n",
       "      <td>5910CX2</td>\n",
       "      <td>NaN</td>\n",
       "      <td>NaN</td>\n",
       "      <td>no</td>\n",
       "    </tr>\n",
       "    <tr>\n",
       "      <th>2</th>\n",
       "      <td>5910CX2-9A</td>\n",
       "      <td>NaN</td>\n",
       "      <td>NaN</td>\n",
       "      <td>no</td>\n",
       "    </tr>\n",
       "    <tr>\n",
       "      <th>3</th>\n",
       "      <td>5910CX2-9A1</td>\n",
       "      <td>NaN</td>\n",
       "      <td>NaN</td>\n",
       "      <td>no</td>\n",
       "    </tr>\n",
       "    <tr>\n",
       "      <th>4</th>\n",
       "      <td>5910CX2-9B</td>\n",
       "      <td>NaN</td>\n",
       "      <td>NaN</td>\n",
       "      <td>no</td>\n",
       "    </tr>\n",
       "  </tbody>\n",
       "</table>\n",
       "</div>"
      ],
      "text/plain": [
       "   Item_Number PrimeVendor  PrimeVendorNumber Overseas_Flag\n",
       "0        5910C         NaN                NaN            no\n",
       "1      5910CX2         NaN                NaN            no\n",
       "2   5910CX2-9A         NaN                NaN            no\n",
       "3  5910CX2-9A1         NaN                NaN            no\n",
       "4   5910CX2-9B         NaN                NaN            no"
      ]
     },
     "execution_count": 6,
     "metadata": {},
     "output_type": "execute_result"
    }
   ],
   "source": [
    "overseas_report.head()"
   ]
  },
  {
   "cell_type": "code",
   "execution_count": 4,
   "id": "af0cdc6f",
   "metadata": {},
   "outputs": [
    {
     "data": {
      "text/plain": [
       "no     106954\n",
       "yes       367\n",
       "Name: Overseas_Flag, dtype: int64"
      ]
     },
     "execution_count": 4,
     "metadata": {},
     "output_type": "execute_result"
    }
   ],
   "source": [
    "overseas_report['Overseas_Flag'].value_counts()"
   ]
  },
  {
   "cell_type": "markdown",
   "id": "f705140c",
   "metadata": {},
   "source": [
    "Filtering planning report file based on item numbers found in component usage history"
   ]
  },
  {
   "cell_type": "code",
   "execution_count": 7,
   "id": "50ff4535",
   "metadata": {},
   "outputs": [],
   "source": [
    "planning_report_filtered=planning_report[planning_report['Item_Number'].isin(usage_history['Item_Number'])]"
   ]
  },
  {
   "cell_type": "code",
   "execution_count": 8,
   "id": "911daa43",
   "metadata": {},
   "outputs": [],
   "source": [
    "merge_df=pd.merge(planning_report_filtered, usage_history,  left_on='Item_Number', right_on='Item_Number', how='inner')\n",
    "merge_df=pd.merge(merge_df,overseas_report[['Item_Number','Overseas_Flag']], left_on='Item_Number', right_on='Item_Number', how='left')"
   ]
  },
  {
   "cell_type": "code",
   "execution_count": 9,
   "id": "402bde51",
   "metadata": {},
   "outputs": [
    {
     "data": {
      "text/html": [
       "<div>\n",
       "<style scoped>\n",
       "    .dataframe tbody tr th:only-of-type {\n",
       "        vertical-align: middle;\n",
       "    }\n",
       "\n",
       "    .dataframe tbody tr th {\n",
       "        vertical-align: top;\n",
       "    }\n",
       "\n",
       "    .dataframe thead th {\n",
       "        text-align: right;\n",
       "    }\n",
       "</style>\n",
       "<table border=\"1\" class=\"dataframe\">\n",
       "  <thead>\n",
       "    <tr style=\"text-align: right;\">\n",
       "      <th></th>\n",
       "      <th>Item_Number</th>\n",
       "      <th>Item_Type</th>\n",
       "      <th>Item_Description</th>\n",
       "      <th>Unit of Measure</th>\n",
       "      <th>Inventory_Item_Status_Code</th>\n",
       "      <th>Site</th>\n",
       "      <th>OnHandQuantity</th>\n",
       "      <th>Safety Stock</th>\n",
       "      <th>ABC_Inventory_Classification</th>\n",
       "      <th>PlanningMethod</th>\n",
       "      <th>...</th>\n",
       "      <th>Week45</th>\n",
       "      <th>Week46</th>\n",
       "      <th>Week47</th>\n",
       "      <th>Week48</th>\n",
       "      <th>Week49</th>\n",
       "      <th>Week50</th>\n",
       "      <th>Week51</th>\n",
       "      <th>Week52</th>\n",
       "      <th>Total 52 Weeks</th>\n",
       "      <th>Overseas_Flag</th>\n",
       "    </tr>\n",
       "  </thead>\n",
       "  <tbody>\n",
       "    <tr>\n",
       "      <th>0</th>\n",
       "      <td>ERAA22608A0</td>\n",
       "      <td>PURCHASED ITEM</td>\n",
       "      <td>BASE ~ EPRV 20; CL150 ASME B16.5 PATTERN; FLAT...</td>\n",
       "      <td>EA</td>\n",
       "      <td>Active</td>\n",
       "      <td>EMR</td>\n",
       "      <td>0.0</td>\n",
       "      <td>NaN</td>\n",
       "      <td>NaN</td>\n",
       "      <td>MRP planning</td>\n",
       "      <td>...</td>\n",
       "      <td>0</td>\n",
       "      <td>0</td>\n",
       "      <td>0</td>\n",
       "      <td>0</td>\n",
       "      <td>0</td>\n",
       "      <td>0</td>\n",
       "      <td>0</td>\n",
       "      <td>0</td>\n",
       "      <td>-45</td>\n",
       "      <td>no</td>\n",
       "    </tr>\n",
       "    <tr>\n",
       "      <th>1</th>\n",
       "      <td>ERAA22609A2</td>\n",
       "      <td>PURCHASED ITEM</td>\n",
       "      <td>BASE ASSY ~ EPRV; 20; CL150 FF; ANSI; FORGED W...</td>\n",
       "      <td>EA</td>\n",
       "      <td>Active</td>\n",
       "      <td>EMR</td>\n",
       "      <td>0.0</td>\n",
       "      <td>NaN</td>\n",
       "      <td>NaN</td>\n",
       "      <td>MRP planning</td>\n",
       "      <td>...</td>\n",
       "      <td>0</td>\n",
       "      <td>-2</td>\n",
       "      <td>0</td>\n",
       "      <td>0</td>\n",
       "      <td>0</td>\n",
       "      <td>0</td>\n",
       "      <td>0</td>\n",
       "      <td>0</td>\n",
       "      <td>-66</td>\n",
       "      <td>no</td>\n",
       "    </tr>\n",
       "    <tr>\n",
       "      <th>2</th>\n",
       "      <td>ERAA22609A3</td>\n",
       "      <td>SUBASSEMBLY</td>\n",
       "      <td>BASE ASSY ~ EPRV; 20; API; FORGED WITH WELDED ...</td>\n",
       "      <td>EA</td>\n",
       "      <td>Active</td>\n",
       "      <td>EMR</td>\n",
       "      <td>0.0</td>\n",
       "      <td>NaN</td>\n",
       "      <td>NaN</td>\n",
       "      <td>MRP planning</td>\n",
       "      <td>...</td>\n",
       "      <td>0</td>\n",
       "      <td>0</td>\n",
       "      <td>0</td>\n",
       "      <td>0</td>\n",
       "      <td>0</td>\n",
       "      <td>0</td>\n",
       "      <td>0</td>\n",
       "      <td>0</td>\n",
       "      <td>-29</td>\n",
       "      <td>no</td>\n",
       "    </tr>\n",
       "    <tr>\n",
       "      <th>3</th>\n",
       "      <td>ERAA22610A0</td>\n",
       "      <td>PURCHASED ITEM</td>\n",
       "      <td>BASE ~ EPRV; 24; ANSI; FORGED</td>\n",
       "      <td>EA</td>\n",
       "      <td>Active</td>\n",
       "      <td>EMR</td>\n",
       "      <td>8.0</td>\n",
       "      <td>10.0</td>\n",
       "      <td>NaN</td>\n",
       "      <td>MRP planning</td>\n",
       "      <td>...</td>\n",
       "      <td>-1</td>\n",
       "      <td>0</td>\n",
       "      <td>0</td>\n",
       "      <td>0</td>\n",
       "      <td>-2</td>\n",
       "      <td>0</td>\n",
       "      <td>-1</td>\n",
       "      <td>-2</td>\n",
       "      <td>-18</td>\n",
       "      <td>yes</td>\n",
       "    </tr>\n",
       "    <tr>\n",
       "      <th>4</th>\n",
       "      <td>ERAA22611A2</td>\n",
       "      <td>SUBASSEMBLY</td>\n",
       "      <td>BASE ASSY ~ EPRV; 24; CL150 FF; ANSI; FORGED W...</td>\n",
       "      <td>EA</td>\n",
       "      <td>Active</td>\n",
       "      <td>EMR</td>\n",
       "      <td>0.0</td>\n",
       "      <td>NaN</td>\n",
       "      <td>NaN</td>\n",
       "      <td>MRP planning</td>\n",
       "      <td>...</td>\n",
       "      <td>0</td>\n",
       "      <td>-1</td>\n",
       "      <td>0</td>\n",
       "      <td>-1</td>\n",
       "      <td>0</td>\n",
       "      <td>0</td>\n",
       "      <td>0</td>\n",
       "      <td>0</td>\n",
       "      <td>-13</td>\n",
       "      <td>no</td>\n",
       "    </tr>\n",
       "  </tbody>\n",
       "</table>\n",
       "<p>5 rows × 84 columns</p>\n",
       "</div>"
      ],
      "text/plain": [
       "   Item_Number       Item_Type  \\\n",
       "0  ERAA22608A0  PURCHASED ITEM   \n",
       "1  ERAA22609A2  PURCHASED ITEM   \n",
       "2  ERAA22609A3     SUBASSEMBLY   \n",
       "3  ERAA22610A0  PURCHASED ITEM   \n",
       "4  ERAA22611A2     SUBASSEMBLY   \n",
       "\n",
       "                                    Item_Description Unit of Measure  \\\n",
       "0  BASE ~ EPRV 20; CL150 ASME B16.5 PATTERN; FLAT...              EA   \n",
       "1  BASE ASSY ~ EPRV; 20; CL150 FF; ANSI; FORGED W...              EA   \n",
       "2  BASE ASSY ~ EPRV; 20; API; FORGED WITH WELDED ...              EA   \n",
       "3                      BASE ~ EPRV; 24; ANSI; FORGED              EA   \n",
       "4  BASE ASSY ~ EPRV; 24; CL150 FF; ANSI; FORGED W...              EA   \n",
       "\n",
       "  Inventory_Item_Status_Code Site  OnHandQuantity  Safety Stock  \\\n",
       "0                     Active  EMR             0.0           NaN   \n",
       "1                     Active  EMR             0.0           NaN   \n",
       "2                     Active  EMR             0.0           NaN   \n",
       "3                     Active  EMR             8.0          10.0   \n",
       "4                     Active  EMR             0.0           NaN   \n",
       "\n",
       "   ABC_Inventory_Classification PlanningMethod  ... Week45 Week46 Week47  \\\n",
       "0                           NaN   MRP planning  ...      0      0      0   \n",
       "1                           NaN   MRP planning  ...      0     -2      0   \n",
       "2                           NaN   MRP planning  ...      0      0      0   \n",
       "3                           NaN   MRP planning  ...     -1      0      0   \n",
       "4                           NaN   MRP planning  ...      0     -1      0   \n",
       "\n",
       "  Week48 Week49  Week50  Week51 Week52  Total 52 Weeks  Overseas_Flag  \n",
       "0      0      0       0       0      0             -45             no  \n",
       "1      0      0       0       0      0             -66             no  \n",
       "2      0      0       0       0      0             -29             no  \n",
       "3      0     -2       0      -1     -2             -18            yes  \n",
       "4     -1      0       0       0      0             -13             no  \n",
       "\n",
       "[5 rows x 84 columns]"
      ]
     },
     "execution_count": 9,
     "metadata": {},
     "output_type": "execute_result"
    }
   ],
   "source": [
    "merge_df.head()"
   ]
  },
  {
   "cell_type": "markdown",
   "id": "fd772836",
   "metadata": {},
   "source": [
    "## ABCD Calculation"
   ]
  },
  {
   "cell_type": "code",
   "execution_count": 10,
   "id": "040afa9a",
   "metadata": {},
   "outputs": [],
   "source": [
    "def classify_item_based_on_combined_score(row):\n",
    "    combined_score_thresholds = {\n",
    "        'AA': merge_df['combined_score'].quantile(0.98),\n",
    "        'A': merge_df['combined_score'].quantile(0.85),  \n",
    "        'B': merge_df['combined_score'].quantile(0.70), \n",
    "    }\n",
    "    \n",
    "    if row['ABC_Class'] == 'To Be Classified':\n",
    "        if row['combined_score'] > combined_score_thresholds['AA']:\n",
    "            return 'AA'\n",
    "        elif (row['combined_score'] > combined_score_thresholds['A']): #& (row['combined_score'] < combined_score_thresholds['AA']):\n",
    "            return 'A'\n",
    "        elif (row['combined_score'] > combined_score_thresholds['B']): #& (row['combined_score'] < combined_score_thresholds['A']):\n",
    "            return 'B'\n",
    "        else:\n",
    "            return 'C'\n",
    "        if debug:\n",
    "            print(f\"Combined Score: {row['combined_score']}, Classification: {classification}\")\n",
    "        return classification\n",
    "    else:\n",
    "        return row['ABC_Class']  "
   ]
  },
  {
   "cell_type": "code",
   "execution_count": 11,
   "id": "9830f738",
   "metadata": {},
   "outputs": [],
   "source": [
    "#melting dataframe comtaining week usage data\n",
    "demand_melted_df = pd.melt(merge_df, \n",
    "id_vars=['Item_Number', 'ORG'], \n",
    "value_vars=[f'Week{i}' for i in range(1, 53)],\n",
    "var_name='Week', \n",
    "value_name='Demand')\n"
   ]
  },
  {
   "cell_type": "code",
   "execution_count": 12,
   "id": "ee744788",
   "metadata": {},
   "outputs": [],
   "source": [
    "\n",
    "#grouping by demand and calculating cdf\n",
    "demand_frequencies = demand_melted_df.groupby(['Item_Number', 'Demand']).size().reset_index(name='Frequency')\n",
    "demand_frequencies['Total_Observations'] = demand_frequencies.groupby('Item_Number')['Frequency'].transform('sum')\n",
    "demand_frequencies['Probability'] = demand_frequencies['Frequency'] / demand_frequencies['Total_Observations']\n",
    "demand_frequencies = demand_frequencies.sort_values(['Item_Number', 'Demand'])\n",
    "demand_frequencies['CDF'] = demand_frequencies.groupby('Item_Number')['Probability'].cumsum()\n"
   ]
  },
  {
   "cell_type": "markdown",
   "id": "b0c5127b",
   "metadata": {},
   "source": [
    "Coef of variance calculation"
   ]
  },
  {
   "cell_type": "code",
   "execution_count": 13,
   "id": "91112b24",
   "metadata": {},
   "outputs": [],
   "source": [
    "\n",
    "#calculating mean and stdev\n",
    "week_columns = [f'Week{i}' for i in range(1, 53)]\n",
    "\n",
    "merge_df['mean'] = merge_df[week_columns].mean(axis=1)\n",
    "merge_df['std'] = merge_df[week_columns].std(axis=1)\n",
    "\n",
    "# calculating the variance in demand for the items\n",
    "merge_df ['coefficient_of_variation'] = (merge_df ['std'] / merge_df ['mean']).abs()\n",
    "# Accessing the coefficient of variation column\n",
    "coeff_of_variation = merge_df['coefficient_of_variation']\n"
   ]
  },
  {
   "cell_type": "code",
   "execution_count": 14,
   "id": "3e15b613",
   "metadata": {},
   "outputs": [],
   "source": [
    "\n",
    "demand_variance_array = np.array(coeff_of_variation)\n",
    "\n",
    "demand_variance_60percentile = coeff_of_variation.quantile([0.60]).iloc[0]   \n",
    "demand_variance_median = coeff_of_variation.median()\n"
   ]
  },
  {
   "cell_type": "code",
   "execution_count": 15,
   "id": "ee4f16c0",
   "metadata": {},
   "outputs": [
    {
     "data": {
      "text/plain": [
       "(5.332516277283601, 4.705247800354947)"
      ]
     },
     "execution_count": 15,
     "metadata": {},
     "output_type": "execute_result"
    }
   ],
   "source": [
    "demand_variance_60percentile, demand_variance_median"
   ]
  },
  {
   "cell_type": "code",
   "execution_count": 16,
   "id": "ef2c646c",
   "metadata": {},
   "outputs": [],
   "source": [
    "# reclassifying the D items based on the percetile threshold of the coeefficient of variance for each item\n",
    "merge_df['ABC_Class'] = merge_df['coefficient_of_variation'].apply(lambda x: 'D' if x >= demand_variance_60percentile\n",
    "                                                                   else 'To Be Classified')\n"
   ]
  },
  {
   "cell_type": "code",
   "execution_count": 17,
   "id": "8ff32fdd",
   "metadata": {},
   "outputs": [],
   "source": [
    "# reclassifying with ABC items using the cost percentiles based on the proportion of spend of an item as compared to total spend\n",
    "merge_df['item_standard_cost'] = merge_df['Product Standard Cost']\n",
    "merge_df['Total 52 Weeks'] = merge_df['Total 52 Weeks'].abs()\n",
    "\n",
    "merge_df['item_spend_52weeks'] = (merge_df['item_standard_cost'] * merge_df['Total 52 Weeks'])\n",
    "\n",
    "total_spending = merge_df['item_spend_52weeks'].sum()\n",
    "\n",
    "merge_df['proportion_total_spend'] = (merge_df['item_spend_52weeks']/total_spending) * 100\n"
   ]
  },
  {
   "cell_type": "code",
   "execution_count": 18,
   "id": "463bc7ea",
   "metadata": {},
   "outputs": [],
   "source": [
    "high_demand_variance = merge_df['coefficient_of_variation'].quantile(0.25)\n",
    "low_demand_variance = merge_df['coefficient_of_variation'].quantile(0.75)\n",
    "high_spending_proportion = merge_df['proportion_total_spend'].quantile(0.75)\n",
    "moderate_spending_proportion = merge_df['proportion_total_spend'].quantile(0.25)\n"
   ]
  },
  {
   "cell_type": "code",
   "execution_count": 19,
   "id": "365bc608",
   "metadata": {},
   "outputs": [
    {
     "data": {
      "text/plain": [
       "ABC_Class\n",
       "D                   59.58771\n",
       "To Be Classified    40.41229\n",
       "Name: coefficient_of_variation, dtype: float64"
      ]
     },
     "execution_count": 19,
     "metadata": {},
     "output_type": "execute_result"
    }
   ],
   "source": [
    "# Sum of spend per class\n",
    "total_spend_per_class = merge_df.groupby('ABC_Class')['coefficient_of_variation'].sum()\n",
    "\n",
    "# Overall total spend\n",
    "overall_total_spend = merge_df['coefficient_of_variation'].sum()\n",
    "\n",
    "# Percentage of spend for each class\n",
    "percentage_spend_per_class = (total_spend_per_class / overall_total_spend) * 100\n",
    "\n",
    "\n",
    "percentage_spend_per_class"
   ]
  },
  {
   "cell_type": "code",
   "execution_count": 20,
   "id": "8843b047",
   "metadata": {},
   "outputs": [
    {
     "data": {
      "text/plain": [
       "0       4.323868\n",
       "1       2.839089\n",
       "2       4.281910\n",
       "3       2.350749\n",
       "4       3.253957\n",
       "          ...   \n",
       "5837    7.211103\n",
       "5838    7.211103\n",
       "5839    7.211103\n",
       "5840    5.048782\n",
       "5841    7.211103\n",
       "Name: coefficient_of_variation, Length: 5842, dtype: float64"
      ]
     },
     "execution_count": 20,
     "metadata": {},
     "output_type": "execute_result"
    }
   ],
   "source": [
    "merge_df['coefficient_of_variation']"
   ]
  },
  {
   "cell_type": "code",
   "execution_count": 21,
   "id": "4df8c6c7",
   "metadata": {},
   "outputs": [
    {
     "data": {
      "text/plain": [
       "(7.2111025509279925, 0.3890904686745604)"
      ]
     },
     "execution_count": 21,
     "metadata": {},
     "output_type": "execute_result"
    }
   ],
   "source": [
    "merge_df['coefficient_of_variation'].max(), merge_df['coefficient_of_variation'].min()"
   ]
  },
  {
   "cell_type": "code",
   "execution_count": 22,
   "id": "8fe12795",
   "metadata": {},
   "outputs": [],
   "source": [
    "demand_variance_weight = 0.20\n",
    "spending_proportion_weight = 0.80\n",
    "\n",
    "# normalize the weights if not equal to 1\n",
    "total_weight = demand_variance_weight + spending_proportion_weight\n",
    "demand_variance_weight /= total_weight\n",
    "spending_proportion_weight /= total_weight\n"
   ]
  },
  {
   "cell_type": "code",
   "execution_count": 23,
   "id": "a417393b",
   "metadata": {},
   "outputs": [],
   "source": [
    "\n",
    "merge_df['weighted_demand_variance_score'] = (1 - (merge_df['coefficient_of_variation'] / merge_df['coefficient_of_variation'].max()))* demand_variance_weight\n",
    "merge_df['weighted_spending_proportion_score'] = (merge_df['proportion_total_spend'] / merge_df['proportion_total_spend'].max())* spending_proportion_weight\n",
    "merge_df['combined_score'] = merge_df['weighted_demand_variance_score'] + merge_df['weighted_spending_proportion_score']\n",
    "\n",
    "merge_df['ABC_Class'] = merge_df.apply(classify_item_based_on_combined_score, axis=1)"
   ]
  },
  {
   "cell_type": "code",
   "execution_count": 24,
   "id": "1cdfb819",
   "metadata": {},
   "outputs": [
    {
     "data": {
      "text/plain": [
       "<Axes: >"
      ]
     },
     "execution_count": 24,
     "metadata": {},
     "output_type": "execute_result"
    },
    {
     "data": {
      "image/png": "[encoded data removed]",
      "text/plain": [
       "<Figure size 640x480 with 1 Axes>"
      ]
     },
     "metadata": {},
     "output_type": "display_data"
    }
   ],
   "source": [
    "merge_df['combined_score'].hist() "
   ]
  },
  {
   "cell_type": "code",
   "execution_count": 25,
   "id": "6480461e",
   "metadata": {},
   "outputs": [
    {
     "data": {
      "text/plain": [
       "D     2343\n",
       "C     1752\n",
       "B      873\n",
       "A      760\n",
       "AA     114\n",
       "Name: ABC_Class, dtype: int64"
      ]
     },
     "execution_count": 25,
     "metadata": {},
     "output_type": "execute_result"
    }
   ],
   "source": [
    "merge_df['ABC_Class'].value_counts()"
   ]
  },
  {
   "cell_type": "code",
   "execution_count": 27,
   "id": "02b55ff0",
   "metadata": {},
   "outputs": [
    {
     "data": {
      "text/plain": [
       "<Axes: >"
      ]
     },
     "execution_count": 27,
     "metadata": {},
     "output_type": "execute_result"
    },
    {
     "data": {
      "image/png": "[encoded data removed]",
      "text/plain": [
       "<Figure size 640x480 with 1 Axes>"
      ]
     },
     "metadata": {},
     "output_type": "display_data"
    }
   ],
   "source": [
    "merge_df[merge_df['Item_Number']==merge_df[merge_df['ABC_Class']=='AA'].iloc[0,0]][week_columns].T.abs().plot()"
   ]
  },
  {
   "cell_type": "code",
   "execution_count": 28,
   "id": "ab7b94ff",
   "metadata": {},
   "outputs": [
    {
     "data": {
      "text/plain": [
       "<Axes: >"
      ]
     },
     "execution_count": 28,
     "metadata": {},
     "output_type": "execute_result"
    },
    {
     "data": {
      "image/png": "[encoded data removed]",
      "text/plain": [
       "<Figure size 640x480 with 1 Axes>"
      ]
     },
     "metadata": {},
     "output_type": "display_data"
    }
   ],
   "source": [
    "merge_df[merge_df['Item_Number']==merge_df[merge_df['ABC_Class']=='A'].iloc[0,0]][week_columns].T.abs().plot()"
   ]
  },
  {
   "cell_type": "code",
   "execution_count": 29,
   "id": "26829ea4",
   "metadata": {},
   "outputs": [
    {
     "data": {
      "text/plain": [
       "<Axes: >"
      ]
     },
     "execution_count": 29,
     "metadata": {},
     "output_type": "execute_result"
    },
    {
     "data": {
      "image/png": "[encoded data removed]",
      "text/plain": [
       "<Figure size 640x480 with 1 Axes>"
      ]
     },
     "metadata": {},
     "output_type": "display_data"
    }
   ],
   "source": [
    "merge_df[merge_df['Item_Number']==merge_df[merge_df['ABC_Class']=='B'].iloc[0,0]][week_columns].T.abs().plot()"
   ]
  },
  {
   "cell_type": "code",
   "execution_count": 30,
   "id": "c6576989",
   "metadata": {},
   "outputs": [
    {
     "data": {
      "text/plain": [
       "<Axes: >"
      ]
     },
     "execution_count": 30,
     "metadata": {},
     "output_type": "execute_result"
    },
    {
     "data": {
      "image/png": "[encoded data removed]",
      "text/plain": [
       "<Figure size 640x480 with 1 Axes>"
      ]
     },
     "metadata": {},
     "output_type": "display_data"
    }
   ],
   "source": [
    "merge_df[merge_df['Item_Number']==merge_df[merge_df['ABC_Class']=='C'].iloc[0,0]][week_columns].T.abs().plot()"
   ]
  },
  {
   "cell_type": "code",
   "execution_count": 31,
   "id": "afb8deca",
   "metadata": {},
   "outputs": [
    {
     "data": {
      "text/plain": [
       "<Axes: >"
      ]
     },
     "execution_count": 31,
     "metadata": {},
     "output_type": "execute_result"
    },
    {
     "data": {
      "image/png": "[encoded data removed]",
      "text/plain": [
       "<Figure size 640x480 with 1 Axes>"
      ]
     },
     "metadata": {},
     "output_type": "display_data"
    }
   ],
   "source": [
    "merge_df[merge_df['Item_Number']==merge_df[merge_df['ABC_Class']=='D'].iloc[0,0]][week_columns].T.abs().plot()"
   ]
  },
  {
   "cell_type": "code",
   "execution_count": 32,
   "id": "546e0d15",
   "metadata": {},
   "outputs": [
    {
     "data": {
      "text/html": [
       "<div>\n",
       "<style scoped>\n",
       "    .dataframe tbody tr th:only-of-type {\n",
       "        vertical-align: middle;\n",
       "    }\n",
       "\n",
       "    .dataframe tbody tr th {\n",
       "        vertical-align: top;\n",
       "    }\n",
       "\n",
       "    .dataframe thead th {\n",
       "        text-align: right;\n",
       "    }\n",
       "</style>\n",
       "<table border=\"1\" class=\"dataframe\">\n",
       "  <thead>\n",
       "    <tr style=\"text-align: right;\">\n",
       "      <th></th>\n",
       "      <th>Total 52 Weeks</th>\n",
       "      <th>Lead Time</th>\n",
       "      <th>ABC_Class</th>\n",
       "      <th>Item_Description</th>\n",
       "      <th>proportion_total_spend</th>\n",
       "    </tr>\n",
       "  </thead>\n",
       "  <tbody>\n",
       "    <tr>\n",
       "      <th>0</th>\n",
       "      <td>45</td>\n",
       "      <td>92.000000</td>\n",
       "      <td>C</td>\n",
       "      <td>BASE ~ EPRV 20; CL150 ASME B16.5 PATTERN; FLAT...</td>\n",
       "      <td>0.044099</td>\n",
       "    </tr>\n",
       "    <tr>\n",
       "      <th>1</th>\n",
       "      <td>66</td>\n",
       "      <td>92.000000</td>\n",
       "      <td>A</td>\n",
       "      <td>BASE ASSY ~ EPRV; 20; CL150 FF; ANSI; FORGED W...</td>\n",
       "      <td>0.093076</td>\n",
       "    </tr>\n",
       "    <tr>\n",
       "      <th>2</th>\n",
       "      <td>29</td>\n",
       "      <td>102.314583</td>\n",
       "      <td>C</td>\n",
       "      <td>BASE ASSY ~ EPRV; 20; API; FORGED WITH WELDED ...</td>\n",
       "      <td>0.038726</td>\n",
       "    </tr>\n",
       "    <tr>\n",
       "      <th>3</th>\n",
       "      <td>18</td>\n",
       "      <td>102.000000</td>\n",
       "      <td>B</td>\n",
       "      <td>BASE ~ EPRV; 24; ANSI; FORGED</td>\n",
       "      <td>0.019104</td>\n",
       "    </tr>\n",
       "    <tr>\n",
       "      <th>4</th>\n",
       "      <td>13</td>\n",
       "      <td>109.597916</td>\n",
       "      <td>B</td>\n",
       "      <td>BASE ASSY ~ EPRV; 24; CL150 FF; ANSI; FORGED W...</td>\n",
       "      <td>0.020865</td>\n",
       "    </tr>\n",
       "    <tr>\n",
       "      <th>...</th>\n",
       "      <td>...</td>\n",
       "      <td>...</td>\n",
       "      <td>...</td>\n",
       "      <td>...</td>\n",
       "      <td>...</td>\n",
       "    </tr>\n",
       "    <tr>\n",
       "      <th>5837</th>\n",
       "      <td>8</td>\n",
       "      <td>24.002083</td>\n",
       "      <td>D</td>\n",
       "      <td>STM PALLET STEM 7/16 X M8;SST CTD SST 316; USA...</td>\n",
       "      <td>0.000421</td>\n",
       "    </tr>\n",
       "    <tr>\n",
       "      <th>5838</th>\n",
       "      <td>8</td>\n",
       "      <td>34.002083</td>\n",
       "      <td>D</td>\n",
       "      <td>PAL PALLET;SPUN;6\" 2010;TEFLON CTD SST 316; US...</td>\n",
       "      <td>0.003224</td>\n",
       "    </tr>\n",
       "    <tr>\n",
       "      <th>5839</th>\n",
       "      <td>8</td>\n",
       "      <td>22.000000</td>\n",
       "      <td>D</td>\n",
       "      <td>RETAINER ~ 6; INSERT; USA AIS</td>\n",
       "      <td>0.000337</td>\n",
       "    </tr>\n",
       "    <tr>\n",
       "      <th>5840</th>\n",
       "      <td>16</td>\n",
       "      <td>32.000000</td>\n",
       "      <td>C</td>\n",
       "      <td>NUT NUT ~ WING; 220; A1441-006AIS; USA AIS</td>\n",
       "      <td>0.010753</td>\n",
       "    </tr>\n",
       "    <tr>\n",
       "      <th>5841</th>\n",
       "      <td>2</td>\n",
       "      <td>32.000000</td>\n",
       "      <td>D</td>\n",
       "      <td>SCREW 5/8-11 x 2.25 HEX CAP; USA AIS</td>\n",
       "      <td>0.000150</td>\n",
       "    </tr>\n",
       "  </tbody>\n",
       "</table>\n",
       "<p>5842 rows × 5 columns</p>\n",
       "</div>"
      ],
      "text/plain": [
       "      Total 52 Weeks   Lead Time ABC_Class  \\\n",
       "0                 45   92.000000         C   \n",
       "1                 66   92.000000         A   \n",
       "2                 29  102.314583         C   \n",
       "3                 18  102.000000         B   \n",
       "4                 13  109.597916         B   \n",
       "...              ...         ...       ...   \n",
       "5837               8   24.002083         D   \n",
       "5838               8   34.002083         D   \n",
       "5839               8   22.000000         D   \n",
       "5840              16   32.000000         C   \n",
       "5841               2   32.000000         D   \n",
       "\n",
       "                                       Item_Description  \\\n",
       "0     BASE ~ EPRV 20; CL150 ASME B16.5 PATTERN; FLAT...   \n",
       "1     BASE ASSY ~ EPRV; 20; CL150 FF; ANSI; FORGED W...   \n",
       "2     BASE ASSY ~ EPRV; 20; API; FORGED WITH WELDED ...   \n",
       "3                         BASE ~ EPRV; 24; ANSI; FORGED   \n",
       "4     BASE ASSY ~ EPRV; 24; CL150 FF; ANSI; FORGED W...   \n",
       "...                                                 ...   \n",
       "5837  STM PALLET STEM 7/16 X M8;SST CTD SST 316; USA...   \n",
       "5838  PAL PALLET;SPUN;6\" 2010;TEFLON CTD SST 316; US...   \n",
       "5839                      RETAINER ~ 6; INSERT; USA AIS   \n",
       "5840         NUT NUT ~ WING; 220; A1441-006AIS; USA AIS   \n",
       "5841               SCREW 5/8-11 x 2.25 HEX CAP; USA AIS   \n",
       "\n",
       "      proportion_total_spend  \n",
       "0                   0.044099  \n",
       "1                   0.093076  \n",
       "2                   0.038726  \n",
       "3                   0.019104  \n",
       "4                   0.020865  \n",
       "...                      ...  \n",
       "5837                0.000421  \n",
       "5838                0.003224  \n",
       "5839                0.000337  \n",
       "5840                0.010753  \n",
       "5841                0.000150  \n",
       "\n",
       "[5842 rows x 5 columns]"
      ]
     },
     "execution_count": 32,
     "metadata": {},
     "output_type": "execute_result"
    }
   ],
   "source": [
    "merge_df[['Total 52 Weeks','Lead Time','ABC_Class','Item_Description','proportion_total_spend']]"
   ]
  },
  {
   "cell_type": "markdown",
   "id": "8b2dbbec",
   "metadata": {},
   "source": [
    "## Safety Stock"
   ]
  },
  {
   "cell_type": "markdown",
   "id": "96af76b2",
   "metadata": {},
   "source": [
    "Handling 0 Lead Time"
   ]
  },
  {
   "cell_type": "code",
   "execution_count": 33,
   "id": "cab974b5",
   "metadata": {},
   "outputs": [],
   "source": [
    "# Step 1: Remove items with ABC Class of 'D'\n",
    "item_nonD = merge_df[merge_df['ABC_Class'] != 'D']\n",
    "\n",
    "# Step 2: Filter for items with a Lead Time of 0 and select specific columns\n",
    "filter_items_leadtime = item_nonD.loc[item_nonD['Lead Time'] == 0, ['Item_Number', 'PrimeVendor', 'Lead Time']]\n",
    "\n",
    "# Step 3: Count how many times each vendor appears in the filtered list\n",
    "vendor_counts = filter_items_leadtime['PrimeVendor'].value_counts()\n",
    "\n",
    "# Step 4: Calculate the mean lead time for each vendor, excluding those with a Lead Time of 0\n",
    "mean_lead_time_per_vendor = item_nonD[item_nonD['Lead Time'] != 0].groupby('PrimeVendor')['Lead Time'].mean()\n",
    "\n"
   ]
  },
  {
   "cell_type": "code",
   "execution_count": 34,
   "id": "7ec2a296",
   "metadata": {},
   "outputs": [],
   "source": [
    "# Step 6: Replace 0 lead time with the vendor's mean lead time\n",
    "def replace_zero_lead_time(row, mean_lead_times):\n",
    "    if row['Lead Time'] == 0:  # Check if the lead time is zero\n",
    "        return mean_lead_times.get(row['PrimeVendor'], 0)  # Replace with mean lead time of the vendor, default to 0 if not found\n",
    "    else:\n",
    "        return row['Lead Time']\n",
    "\n",
    "# Step 7: Apply the changes\n",
    "merge_df['Lead Time'] = merge_df.apply(lambda row: replace_zero_lead_time(row, mean_lead_time_per_vendor), axis=1)"
   ]
  },
  {
   "cell_type": "code",
   "execution_count": 35,
   "id": "f2aa8ff7",
   "metadata": {},
   "outputs": [],
   "source": [
    "#Adding Column Receiving_Days and change it to be 7 or 3 based on overseas flag\n",
    "merge_df['Receiving_Days'] = np.where((merge_df['ABC_Class'] == 'AA') & (merge_df['Overseas_Flag'] == 'yes'), 7,3)"
   ]
  },
  {
   "cell_type": "code",
   "execution_count": 36,
   "id": "b69345ba",
   "metadata": {},
   "outputs": [],
   "source": [
    "data_array = merge_df[week_columns].to_numpy()\n",
    "data_positive = np.abs(data_array)\n",
    "\n",
    "mean_values_per_item = np.mean(data_positive, axis=1)\n",
    "percentile_95_per_item = np.percentile(data_positive, 85, axis=1)\n",
    "\n",
    "# Add mean_values_per_item and percentile_95_per_item to merge_df_new\n",
    "merge_df['mean'] = mean_values_per_item\n",
    "merge_df['percentile_95_per_item'] = percentile_95_per_item\n"
   ]
  },
  {
   "cell_type": "code",
   "execution_count": 37,
   "id": "c28f3b69",
   "metadata": {},
   "outputs": [
    {
     "data": {
      "text/plain": [
       "0.25     17.000000\n",
       "0.50     22.000000\n",
       "0.75     36.523958\n",
       "1.00    182.000000\n",
       "Name: Lead Time, dtype: float64"
      ]
     },
     "execution_count": 37,
     "metadata": {},
     "output_type": "execute_result"
    }
   ],
   "source": [
    "merge_df[merge_df['ABC_Class']=='C']['Lead Time'].quantile([0.25,0.5,0.75,1])"
   ]
  },
  {
   "cell_type": "code",
   "execution_count": 38,
   "id": "9fc3e8f5",
   "metadata": {},
   "outputs": [
    {
     "data": {
      "text/plain": [
       "D     2343\n",
       "C     1752\n",
       "B      873\n",
       "A      760\n",
       "AA     114\n",
       "Name: ABC_Class, dtype: int64"
      ]
     },
     "execution_count": 38,
     "metadata": {},
     "output_type": "execute_result"
    }
   ],
   "source": [
    "merge_df['ABC_Class'].value_counts()"
   ]
  },
  {
   "cell_type": "code",
   "execution_count": 39,
   "id": "4bf96c65",
   "metadata": {},
   "outputs": [],
   "source": [
    "import math\n",
    "def calculate_safety_stock(row):\n",
    "    #A- one a week\n",
    "    # AA - thrice a week, B- one 2 week, C- once a month\n",
    "    # Filter the DataFrame based on the current row's ABC class\n",
    "    \n",
    "#     (95 % CI - mean) * 3(days per arrival) / 5 (working days)\n",
    "    \n",
    "    if row['ABC_Class']=='AA':\n",
    "        \n",
    "        class_df = merge_df[merge_df['ABC_Class'] == row['ABC_Class']]\n",
    "        # Calculate mean and percentile for the filtered class\n",
    "        class_mean = class_df['mean'].mean()\n",
    "        class_percentile_95 = class_df['percentile_95_per_item'].quantile(0.95)\n",
    "        # Calculate 'Safety Stock cal' for the current row\n",
    "        #print(class_percentile_95, class_mean,row['Lead Time'] )\n",
    "        safety_stock_cal = (((1.645 * 0.2*(class_percentile_95 - class_mean) * math.sqrt(row['Lead Time']))*row['Receiving_Days'])/7)\n",
    "        #safety_stock_cal = (((1.645 * 0.2*(class_percentile_95 - class_mean) )*row['Receiving_Days'])/7)\n",
    "        coverage = safety_stock_cal*2*4*12\n",
    "        \n",
    "    elif row['ABC_Class']=='A':        \n",
    "        class_df = merge_df[merge_df['ABC_Class'] == row['ABC_Class']]\n",
    "        # Calculate mean and percentile for the filtered class\n",
    "        class_mean = class_df['mean'].mean()\n",
    "        class_percentile_95 = class_df['percentile_95_per_item'].quantile(0.95)\n",
    "        # Calculate 'Safety Stock cal' for the current row\n",
    "        #safety_stock_cal = (class_percentile_95 - class_mean)#*(row['Lead Time'])/7\n",
    "        safety_stock_cal =(((1.645 * 0.2*(class_percentile_95 - class_mean) * math.sqrt(row['Lead Time']))))\n",
    "        coverage = safety_stock_cal*4*12\n",
    "    elif row['ABC_Class']=='B':        \n",
    "        class_df = merge_df[merge_df['ABC_Class'] == row['ABC_Class']]\n",
    "        # Calculate mean and percentile for the filtered class\n",
    "        class_mean = class_df['mean'].mean()\n",
    "        class_percentile_95 = class_df['percentile_95_per_item'].quantile(0.95)\n",
    "        # Calculate 'Safety Stock cal' for the current row\n",
    "        #safety_stock_cal = (class_percentile_95 - class_mean)*2#*(row['Lead Time'])/(7*2)\n",
    "        safety_stock_cal = (((1.645 * 0.2*(class_percentile_95 - class_mean) * math.sqrt(row['Lead Time'])))*2)\n",
    "        coverage = safety_stock_cal*2*12\n",
    "    elif row['ABC_Class']=='C':        \n",
    "        class_df = merge_df[merge_df['ABC_Class'] == row['ABC_Class']]\n",
    "        # Calculate mean and percentile for the filtered class\n",
    "        class_mean = class_df['mean'].median()\n",
    "        class_percentile_95 = class_df['percentile_95_per_item'].quantile(0.95)\n",
    "        # Calculate 'Safety Stock cal' for the current row\n",
    "        #safety_stock_cal =(class_percentile_95 - class_mean)*4#*(row['Lead Time'])/(7*4)\n",
    "        safety_stock_cal = (((1.645 * 0.2*(class_percentile_95 - class_mean) * math.sqrt(row['Lead Time'])))*4)\n",
    "        coverage = safety_stock_cal*12\n",
    "        \n",
    "    elif row['ABC_Class']=='D':       \n",
    "        safety_stock_cal = 0\n",
    "        coverage=0\n",
    "        \n",
    "    if safety_stock_cal < row['Minimum_Order_Quantity']:\n",
    "        safety_stock_cal= row['Minimum_Order_Quantity']\n",
    "    \n",
    "    return pd.Series([safety_stock_cal,coverage])\n",
    "\n"
   ]
  },
  {
   "cell_type": "code",
   "execution_count": null,
   "id": "ec91bcfa",
   "metadata": {},
   "outputs": [],
   "source": [
    "# Apply the function to each row in the DataFrame\n",
    "merge_df[['Safety_Stock_cal_new1', \"Safety Stock Coverage\"]] = merge_df.apply(calculate_safety_stock, axis=1) \n"
   ]
  },
  {
   "cell_type": "code",
   "execution_count": 40,
   "id": "f031068b",
   "metadata": {},
   "outputs": [],
   "source": [
    "def calculate_safety_stock_per_item(row):\n",
    "    lead_time_weeks = row['Lead Time'] / 7\n",
    "    safety_stock = (row['percentile_95_per_item'] * lead_time_weeks) - (row['mean'] * lead_time_weeks)\n",
    "    return safety_stock\n",
    "\n",
    "# Apply the function to each row in the DataFrame to calculate 'Safety Stock per Item'\n",
    "merge_df['Safety Stock per Item'] = merge_df.apply(calculate_safety_stock_per_item, axis=1)"
   ]
  },
  {
   "cell_type": "code",
   "execution_count": 41,
   "id": "dd48b291",
   "metadata": {},
   "outputs": [],
   "source": [
    "df_final=merge_df[['ABC_Class','Minimum_Order_Quantity','Total 52 Weeks','mean','Lead Time','weighted_spending_proportion_score','Safety_Stock_cal_new1']]"
   ]
  },
  {
   "cell_type": "code",
   "execution_count": 44,
   "id": "3ff3e9fa",
   "metadata": {},
   "outputs": [
    {
     "data": {
      "text/html": [
       "<div>\n",
       "<style scoped>\n",
       "    .dataframe tbody tr th:only-of-type {\n",
       "        vertical-align: middle;\n",
       "    }\n",
       "\n",
       "    .dataframe tbody tr th {\n",
       "        vertical-align: top;\n",
       "    }\n",
       "\n",
       "    .dataframe thead th {\n",
       "        text-align: right;\n",
       "    }\n",
       "</style>\n",
       "<table border=\"1\" class=\"dataframe\">\n",
       "  <thead>\n",
       "    <tr style=\"text-align: right;\">\n",
       "      <th></th>\n",
       "      <th>Total 52 Weeks</th>\n",
       "      <th>Safety_Stock_cal_new1</th>\n",
       "      <th>Safety Stock</th>\n",
       "    </tr>\n",
       "  </thead>\n",
       "  <tbody>\n",
       "    <tr>\n",
       "      <th>2159</th>\n",
       "      <td>4215</td>\n",
       "      <td>131.987277</td>\n",
       "      <td>38.0</td>\n",
       "    </tr>\n",
       "  </tbody>\n",
       "</table>\n",
       "</div>"
      ],
      "text/plain": [
       "      Total 52 Weeks  Safety_Stock_cal_new1  Safety Stock\n",
       "2159            4215             131.987277          38.0"
      ]
     },
     "execution_count": 44,
     "metadata": {},
     "output_type": "execute_result"
    }
   ],
   "source": [
    "merge_df[merge_df['Item_Number']=='NE4503800A0'][['Total 52 Weeks','Safety_Stock_cal_new1','Safety Stock']]"
   ]
  },
  {
   "cell_type": "code",
   "execution_count": 55,
   "id": "7484c117",
   "metadata": {},
   "outputs": [
    {
     "data": {
      "text/html": [
       "<div>\n",
       "<style scoped>\n",
       "    .dataframe tbody tr th:only-of-type {\n",
       "        vertical-align: middle;\n",
       "    }\n",
       "\n",
       "    .dataframe tbody tr th {\n",
       "        vertical-align: top;\n",
       "    }\n",
       "\n",
       "    .dataframe thead th {\n",
       "        text-align: right;\n",
       "    }\n",
       "</style>\n",
       "<table border=\"1\" class=\"dataframe\">\n",
       "  <thead>\n",
       "    <tr style=\"text-align: right;\">\n",
       "      <th></th>\n",
       "      <th>Week1</th>\n",
       "      <th>Week2</th>\n",
       "      <th>Week3</th>\n",
       "      <th>Week4</th>\n",
       "      <th>Week5</th>\n",
       "      <th>Week6</th>\n",
       "      <th>Week7</th>\n",
       "      <th>Week8</th>\n",
       "      <th>Week9</th>\n",
       "      <th>Week10</th>\n",
       "      <th>...</th>\n",
       "      <th>Week43</th>\n",
       "      <th>Week44</th>\n",
       "      <th>Week45</th>\n",
       "      <th>Week46</th>\n",
       "      <th>Week47</th>\n",
       "      <th>Week48</th>\n",
       "      <th>Week49</th>\n",
       "      <th>Week50</th>\n",
       "      <th>Week51</th>\n",
       "      <th>Week52</th>\n",
       "    </tr>\n",
       "  </thead>\n",
       "  <tbody>\n",
       "    <tr>\n",
       "      <th>2159</th>\n",
       "      <td>-34</td>\n",
       "      <td>-14</td>\n",
       "      <td>-62</td>\n",
       "      <td>-8</td>\n",
       "      <td>-92</td>\n",
       "      <td>-131</td>\n",
       "      <td>-114</td>\n",
       "      <td>-98</td>\n",
       "      <td>-134</td>\n",
       "      <td>-286</td>\n",
       "      <td>...</td>\n",
       "      <td>-119</td>\n",
       "      <td>-100</td>\n",
       "      <td>-56</td>\n",
       "      <td>-42</td>\n",
       "      <td>-200</td>\n",
       "      <td>0</td>\n",
       "      <td>0</td>\n",
       "      <td>-84</td>\n",
       "      <td>-123</td>\n",
       "      <td>-94</td>\n",
       "    </tr>\n",
       "  </tbody>\n",
       "</table>\n",
       "<p>1 rows × 52 columns</p>\n",
       "</div>"
      ],
      "text/plain": [
       "      Week1  Week2  Week3  Week4  Week5  Week6  Week7  Week8  Week9  Week10  \\\n",
       "2159    -34    -14    -62     -8    -92   -131   -114    -98   -134    -286   \n",
       "\n",
       "      ...  Week43  Week44  Week45  Week46  Week47  Week48  Week49  Week50  \\\n",
       "2159  ...    -119    -100     -56     -42    -200       0       0     -84   \n",
       "\n",
       "      Week51  Week52  \n",
       "2159    -123     -94  \n",
       "\n",
       "[1 rows x 52 columns]"
      ]
     },
     "execution_count": 55,
     "metadata": {},
     "output_type": "execute_result"
    }
   ],
   "source": [
    "merge_df[merge_df['Item_Number']=='NE4503800A0'][week_columns]"
   ]
  },
  {
   "cell_type": "code",
   "execution_count": 59,
   "id": "d4292094",
   "metadata": {},
   "outputs": [
    {
     "data": {
      "image/png": "[encoded data removed]",
      "text/plain": [
       "<Figure size 640x480 with 1 Axes>"
      ]
     },
     "metadata": {},
     "output_type": "display_data"
    }
   ],
   "source": [
    "\n",
    "# Plot weekly demand\n",
    "plt.plot(merge_df[merge_df['Item_Number']=='NE4503800A0'][week_columns].T.abs(), label='Weekly Demand', color='blue', linestyle='-')\n",
    "\n",
    "# Plot new item inventory stock\n",
    "plt.axhline(y=merge_df[merge_df['Item_Number']=='NE4503800A0']['Safety_Stock_cal_new1'].mean(), color='red', linestyle='--', label='New Item Inventory Stock')\n",
    "\n",
    "# Plot previous item inventory stock\n",
    "plt.axhline(y=merge_df[merge_df['Item_Number']=='NE4503800A0']['Safety Stock'].mean(), color='green', linestyle=':', label='Previous Item Inventory Stock')\n",
    "\n",
    "# Additional configurations\n",
    "plt.title('Weekly Demand and Safety Stocks for Item NE4503800A0')\n",
    "plt.xlabel('Weeks')\n",
    "plt.ylabel('Stock Units')\n",
    "plt.legend()\n",
    "plt.grid(False)\n",
    "\n",
    "# Show the plot\n",
    "plt.show()\n",
    "\n"
   ]
  },
  {
   "cell_type": "code",
   "execution_count": 60,
   "id": "3b875241",
   "metadata": {},
   "outputs": [
    {
     "data": {
      "image/png": "[encoded data removed]",
      "text/plain": [
       "<Figure size 640x480 with 1 Axes>"
      ]
     },
     "metadata": {},
     "output_type": "display_data"
    }
   ],
   "source": [
    "\n",
    "# Plot weekly demand\n",
    "plt.plot(merge_df[merge_df['Item_Number']=='NE8550906A0'][week_columns].T.abs(), label='Weekly Demand', color='blue', linestyle='-')\n",
    "\n",
    "# Plot new item inventory stock\n",
    "plt.axhline(y=merge_df[merge_df['Item_Number']=='NE8550906A0']['Safety_Stock_cal_new1'].mean(), color='red', linestyle='--', label='New Item Inventory Stock')\n",
    "\n",
    "# Plot previous item inventory stock\n",
    "plt.axhline(y=merge_df[merge_df['Item_Number']=='NE8550906A0']['Safety Stock'].mean(), color='green', linestyle=':', label='Previous Item Inventory Stock')\n",
    "\n",
    "# Additional configurations\n",
    "plt.title('Weekly Demand and Safety Stocks for Item NE8550906A0')\n",
    "plt.xlabel('Weeks')\n",
    "plt.ylabel('Stock Units')\n",
    "plt.legend()\n",
    "plt.grid(False)\n",
    "\n",
    "# Show the plot\n",
    "plt.show()\n"
   ]
  },
  {
   "cell_type": "markdown",
   "id": "179cbe49",
   "metadata": {},
   "source": [
    "### Safety stock model"
   ]
  },
  {
   "cell_type": "code",
   "execution_count": 57,
   "id": "8cd26620",
   "metadata": {},
   "outputs": [],
   "source": [
    "df_final=merge_df[['ABC_Class','Minimum_Order_Quantity','Total 52 Weeks','mean','Lead Time','weighted_spending_proportion_score','Safety_Stock_cal_new1']]"
   ]
  },
  {
   "cell_type": "code",
   "execution_count": 58,
   "id": "97113bb3",
   "metadata": {},
   "outputs": [],
   "source": [
    "X=df_final.iloc[:,0:-1]\n",
    "y=df_final.iloc[:,-1]"
   ]
  },
  {
   "cell_type": "code",
   "execution_count": 61,
   "id": "c154fb0c",
   "metadata": {},
   "outputs": [],
   "source": [
    "dummies_df=pd.get_dummies(df_final[['ABC_Class']])"
   ]
  },
  {
   "cell_type": "code",
   "execution_count": 87,
   "id": "3771d6c1",
   "metadata": {},
   "outputs": [],
   "source": [
    "from sklearn.preprocessing import StandardScaler\n",
    "sc=StandardScaler()\n",
    "moq_scale=pd.DataFrame(sc.fit_transform(X.iloc[:,1:2]))\n",
    "moq_scale.columns=['Minimum_Order_Quantity']\n",
    "t52w_scale=pd.DataFrame(sc.fit_transform(X.iloc[:,2:3]))\n",
    "t52w_scale.columns=['Total 52 Weeks']\n",
    "lt_scale=pd.DataFrame(sc.fit_transform(X.iloc[:,4:5]))\n",
    "lt_scale.columns=['Lead Time']"
   ]
  },
  {
   "cell_type": "code",
   "execution_count": 88,
   "id": "0572df2d",
   "metadata": {},
   "outputs": [],
   "source": [
    "X_final=pd.concat([dummies_df,moq_scale,t52w_scale,X['mean'],lt_scale,X['weighted_spending_proportion_score']],axis=1)"
   ]
  },
  {
   "cell_type": "code",
   "execution_count": 91,
   "id": "f42beced",
   "metadata": {},
   "outputs": [],
   "source": [
    "from sklearn.model_selection import train_test_split\n",
    "X_train,X_test,y_train,y_test=train_test_split(X_final,y, test_size=0.30)"
   ]
  },
  {
   "cell_type": "code",
   "execution_count": 53,
   "id": "126331ca",
   "metadata": {},
   "outputs": [],
   "source": [
    "from sklearn.linear_model import LinearRegression "
   ]
  },
  {
   "cell_type": "code",
   "execution_count": 89,
   "id": "ed3c6d81",
   "metadata": {},
   "outputs": [
    {
     "data": {
      "text/plain": [
       "Index(['ABC_Class_A', 'ABC_Class_AA', 'ABC_Class_B', 'ABC_Class_C',\n",
       "       'ABC_Class_D', 'Minimum_Order_Quantity', 'Total 52 Weeks', 'mean',\n",
       "       'Lead Time', 'weighted_spending_proportion_score'],\n",
       "      dtype='object')"
      ]
     },
     "execution_count": 89,
     "metadata": {},
     "output_type": "execute_result"
    }
   ],
   "source": [
    "X_final.columns.astype(str)"
   ]
  },
  {
   "cell_type": "code",
   "execution_count": 92,
   "id": "c0f46edb",
   "metadata": {},
   "outputs": [],
   "source": [
    "lr=LinearRegression()\n",
    "lr.fit(X_train,y_train)"
   ]
  },
  {
   "cell_type": "code",
   "execution_count": 122,
   "id": "1495a576",
   "metadata": {},
   "outputs": [],
   "source": [
    "import pickle\n",
    "with open(\"safety_stock_model.pickle\",\"wb\") as f:\n",
    "    pickle.dump(lr,f)"
   ]
  },
  {
   "cell_type": "code",
   "execution_count": 123,
   "id": "5aafdc70",
   "metadata": {},
   "outputs": [],
   "source": [
    "with open(\"safety_stock_model.pickle\",\"rb\") as f:\n",
    "        model=pickle.load(f)"
   ]
  },
  {
   "cell_type": "code",
   "execution_count": 109,
   "id": "6a6d93e2",
   "metadata": {},
   "outputs": [],
   "source": [
    "y_pred=pd.DataFrame(lr.predict(X_test))"
   ]
  },
  {
   "cell_type": "code",
   "execution_count": 110,
   "id": "9029b9c0",
   "metadata": {},
   "outputs": [
    {
     "data": {
      "text/html": [
       "<div>\n",
       "<style scoped>\n",
       "    .dataframe tbody tr th:only-of-type {\n",
       "        vertical-align: middle;\n",
       "    }\n",
       "\n",
       "    .dataframe tbody tr th {\n",
       "        vertical-align: top;\n",
       "    }\n",
       "\n",
       "    .dataframe thead th {\n",
       "        text-align: right;\n",
       "    }\n",
       "</style>\n",
       "<table border=\"1\" class=\"dataframe\">\n",
       "  <thead>\n",
       "    <tr style=\"text-align: right;\">\n",
       "      <th></th>\n",
       "      <th>0</th>\n",
       "      <th>Safety_Stock_cal_new1</th>\n",
       "    </tr>\n",
       "  </thead>\n",
       "  <tbody>\n",
       "    <tr>\n",
       "      <th>0</th>\n",
       "      <td>9.305788</td>\n",
       "      <td>0.000000</td>\n",
       "    </tr>\n",
       "    <tr>\n",
       "      <th>1</th>\n",
       "      <td>48.530017</td>\n",
       "      <td>53.360899</td>\n",
       "    </tr>\n",
       "    <tr>\n",
       "      <th>2</th>\n",
       "      <td>39.686265</td>\n",
       "      <td>10.734997</td>\n",
       "    </tr>\n",
       "    <tr>\n",
       "      <th>3</th>\n",
       "      <td>14.083514</td>\n",
       "      <td>7.452473</td>\n",
       "    </tr>\n",
       "    <tr>\n",
       "      <th>4</th>\n",
       "      <td>39.064849</td>\n",
       "      <td>0.000000</td>\n",
       "    </tr>\n",
       "    <tr>\n",
       "      <th>...</th>\n",
       "      <td>...</td>\n",
       "      <td>...</td>\n",
       "    </tr>\n",
       "    <tr>\n",
       "      <th>1748</th>\n",
       "      <td>149.611323</td>\n",
       "      <td>143.160302</td>\n",
       "    </tr>\n",
       "    <tr>\n",
       "      <th>1749</th>\n",
       "      <td>-4.677850</td>\n",
       "      <td>0.000000</td>\n",
       "    </tr>\n",
       "    <tr>\n",
       "      <th>1750</th>\n",
       "      <td>13.775310</td>\n",
       "      <td>0.000000</td>\n",
       "    </tr>\n",
       "    <tr>\n",
       "      <th>1751</th>\n",
       "      <td>-6.844340</td>\n",
       "      <td>0.000000</td>\n",
       "    </tr>\n",
       "    <tr>\n",
       "      <th>1752</th>\n",
       "      <td>-3.367072</td>\n",
       "      <td>0.000000</td>\n",
       "    </tr>\n",
       "  </tbody>\n",
       "</table>\n",
       "<p>1753 rows × 2 columns</p>\n",
       "</div>"
      ],
      "text/plain": [
       "               0  Safety_Stock_cal_new1\n",
       "0       9.305788               0.000000\n",
       "1      48.530017              53.360899\n",
       "2      39.686265              10.734997\n",
       "3      14.083514               7.452473\n",
       "4      39.064849               0.000000\n",
       "...          ...                    ...\n",
       "1748  149.611323             143.160302\n",
       "1749   -4.677850               0.000000\n",
       "1750   13.775310               0.000000\n",
       "1751   -6.844340               0.000000\n",
       "1752   -3.367072               0.000000\n",
       "\n",
       "[1753 rows x 2 columns]"
      ]
     },
     "execution_count": 110,
     "metadata": {},
     "output_type": "execute_result"
    }
   ],
   "source": [
    "pd.concat([y_pred,y_test.reset_index(drop=True)],axis=1)"
   ]
  },
  {
   "cell_type": "code",
   "execution_count": 114,
   "id": "41923098",
   "metadata": {},
   "outputs": [
    {
     "name": "stdout",
     "output_type": "stream",
     "text": [
      "2055.825527224633\n"
     ]
    },
    {
     "data": {
      "text/plain": [
       "0.7593701653960491"
      ]
     },
     "execution_count": 114,
     "metadata": {},
     "output_type": "execute_result"
    }
   ],
   "source": [
    "from sklearn.metrics import r2_score,mean_squared_error\n",
    "print(mean_squared_error(y_pred,y_test))\n",
    "r2_score(y_pred,y_test)"
   ]
  },
  {
   "cell_type": "code",
   "execution_count": null,
   "id": "79c6dd4b",
   "metadata": {},
   "outputs": [],
   "source": []
  },
  {
   "cell_type": "code",
   "execution_count": 61,
   "id": "bbd11a73",
   "metadata": {},
   "outputs": [],
   "source": [
    "df_final=merge_df[['ABC_Class','Minimum_Order_Quantity','Total 52 Weeks','mean','Lead Time','weighted_spending_proportion_score','Safety_Stock_cal_new1']]"
   ]
  },
  {
   "cell_type": "code",
   "execution_count": 62,
   "id": "a771020e",
   "metadata": {},
   "outputs": [],
   "source": [
    "X=df_final.iloc[:,0:-1]\n",
    "y=df_final.iloc[:,-1]"
   ]
  },
  {
   "cell_type": "code",
   "execution_count": 63,
   "id": "0593829a",
   "metadata": {},
   "outputs": [],
   "source": [
    "dummies_df=pd.get_dummies(df_final[['ABC_Class']])"
   ]
  },
  {
   "cell_type": "code",
   "execution_count": 64,
   "id": "5a33ab64",
   "metadata": {},
   "outputs": [],
   "source": [
    "from sklearn.preprocessing import StandardScaler\n",
    "sc=StandardScaler()\n",
    "moq_scale=pd.DataFrame(sc.fit_transform(X.iloc[:,1:2]))\n",
    "moq_scale.columns=['Minimum_Order_Quantity']\n",
    "t52w_scale=pd.DataFrame(sc.fit_transform(X.iloc[:,2:3]))\n",
    "t52w_scale.columns=['Total 52 Weeks']\n",
    "lt_scale=pd.DataFrame(sc.fit_transform(X.iloc[:,4:5]))\n",
    "lt_scale.columns=['Lead Time']"
   ]
  },
  {
   "cell_type": "code",
   "execution_count": 65,
   "id": "94479528",
   "metadata": {},
   "outputs": [],
   "source": [
    "X_final=pd.concat([dummies_df,moq_scale,t52w_scale,X['mean'],lt_scale,X['weighted_spending_proportion_score']],axis=1)"
   ]
  },
  {
   "cell_type": "code",
   "execution_count": 66,
   "id": "78801120",
   "metadata": {},
   "outputs": [],
   "source": [
    "from sklearn.model_selection import train_test_split\n",
    "X_train,X_test,y_train,y_test=train_test_split(X_final,y, test_size=0.30)"
   ]
  },
  {
   "cell_type": "markdown",
   "id": "b9c661a9",
   "metadata": {},
   "source": [
    "### Safety stock model"
   ]
  },
  {
   "cell_type": "code",
   "execution_count": 67,
   "id": "c796d5e6",
   "metadata": {},
   "outputs": [],
   "source": [
    "from sklearn.linear_model import LinearRegression "
   ]
  },
  {
   "cell_type": "code",
   "execution_count": 68,
   "id": "8edb8a28",
   "metadata": {},
   "outputs": [
    {
     "data": {
      "text/plain": [
       "Index(['ABC_Class_A', 'ABC_Class_AA', 'ABC_Class_B', 'ABC_Class_C',\n",
       "       'ABC_Class_D', 'Minimum_Order_Quantity', 'Total 52 Weeks', 'mean',\n",
       "       'Lead Time', 'weighted_spending_proportion_score'],\n",
       "      dtype='object')"
      ]
     },
     "execution_count": 68,
     "metadata": {},
     "output_type": "execute_result"
    }
   ],
   "source": [
    "X_final.columns.astype(str)"
   ]
  },
  {
   "cell_type": "code",
   "execution_count": 69,
   "id": "b06a22e1",
   "metadata": {},
   "outputs": [
    {
     "data": {
      "text/html": [
       "<style>#sk-container-id-1 {color: black;background-color: white;}#sk-container-id-1 pre{padding: 0;}#sk-container-id-1 div.sk-toggleable {background-color: white;}#sk-container-id-1 label.sk-toggleable__label {cursor: pointer;display: block;width: 100%;margin-bottom: 0;padding: 0.3em;box-sizing: border-box;text-align: center;}#sk-container-id-1 label.sk-toggleable__label-arrow:before {content: \"▸\";float: left;margin-right: 0.25em;color: #696969;}#sk-container-id-1 label.sk-toggleable__label-arrow:hover:before {color: black;}#sk-container-id-1 div.sk-estimator:hover label.sk-toggleable__label-arrow:before {color: black;}#sk-container-id-1 div.sk-toggleable__content {max-height: 0;max-width: 0;overflow: hidden;text-align: left;background-color: #f0f8ff;}#sk-container-id-1 div.sk-toggleable__content pre {margin: 0.2em;color: black;border-radius: 0.25em;background-color: #f0f8ff;}#sk-container-id-1 input.sk-toggleable__control:checked~div.sk-toggleable__content {max-height: 200px;max-width: 100%;overflow: auto;}#sk-container-id-1 input.sk-toggleable__control:checked~label.sk-toggleable__label-arrow:before {content: \"▾\";}#sk-container-id-1 div.sk-estimator input.sk-toggleable__control:checked~label.sk-toggleable__label {background-color: #d4ebff;}#sk-container-id-1 div.sk-label input.sk-toggleable__control:checked~label.sk-toggleable__label {background-color: #d4ebff;}#sk-container-id-1 input.sk-hidden--visually {border: 0;clip: rect(1px 1px 1px 1px);clip: rect(1px, 1px, 1px, 1px);height: 1px;margin: -1px;overflow: hidden;padding: 0;position: absolute;width: 1px;}#sk-container-id-1 div.sk-estimator {font-family: monospace;background-color: #f0f8ff;border: 1px dotted black;border-radius: 0.25em;box-sizing: border-box;margin-bottom: 0.5em;}#sk-container-id-1 div.sk-estimator:hover {background-color: #d4ebff;}#sk-container-id-1 div.sk-parallel-item::after {content: \"\";width: 100%;border-bottom: 1px solid gray;flex-grow: 1;}#sk-container-id-1 div.sk-label:hover label.sk-toggleable__label {background-color: #d4ebff;}#sk-container-id-1 div.sk-serial::before {content: \"\";position: absolute;border-left: 1px solid gray;box-sizing: border-box;top: 0;bottom: 0;left: 50%;z-index: 0;}#sk-container-id-1 div.sk-serial {display: flex;flex-direction: column;align-items: center;background-color: white;padding-right: 0.2em;padding-left: 0.2em;position: relative;}#sk-container-id-1 div.sk-item {position: relative;z-index: 1;}#sk-container-id-1 div.sk-parallel {display: flex;align-items: stretch;justify-content: center;background-color: white;position: relative;}#sk-container-id-1 div.sk-item::before, #sk-container-id-1 div.sk-parallel-item::before {content: \"\";position: absolute;border-left: 1px solid gray;box-sizing: border-box;top: 0;bottom: 0;left: 50%;z-index: -1;}#sk-container-id-1 div.sk-parallel-item {display: flex;flex-direction: column;z-index: 1;position: relative;background-color: white;}#sk-container-id-1 div.sk-parallel-item:first-child::after {align-self: flex-end;width: 50%;}#sk-container-id-1 div.sk-parallel-item:last-child::after {align-self: flex-start;width: 50%;}#sk-container-id-1 div.sk-parallel-item:only-child::after {width: 0;}#sk-container-id-1 div.sk-dashed-wrapped {border: 1px dashed gray;margin: 0 0.4em 0.5em 0.4em;box-sizing: border-box;padding-bottom: 0.4em;background-color: white;}#sk-container-id-1 div.sk-label label {font-family: monospace;font-weight: bold;display: inline-block;line-height: 1.2em;}#sk-container-id-1 div.sk-label-container {text-align: center;}#sk-container-id-1 div.sk-container {/* jupyter's `normalize.less` sets `[hidden] { display: none; }` but bootstrap.min.css set `[hidden] { display: none !important; }` so we also need the `!important` here to be able to override the default hidden behavior on the sphinx rendered scikit-learn.org. See: https://github.com/scikit-learn/scikit-learn/issues/21755 */display: inline-block !important;position: relative;}#sk-container-id-1 div.sk-text-repr-fallback {display: none;}</style><div id=\"sk-container-id-1\" class=\"sk-top-container\"><div class=\"sk-text-repr-fallback\"><pre>LinearRegression()</pre><b>In a Jupyter environment, please rerun this cell to show the HTML representation or trust the notebook. <br />On GitHub, the HTML representation is unable to render, please try loading this page with nbviewer.org.</b></div><div class=\"sk-container\" hidden><div class=\"sk-item\"><div class=\"sk-estimator sk-toggleable\"><input class=\"sk-toggleable__control sk-hidden--visually\" id=\"sk-estimator-id-1\" type=\"checkbox\" checked><label for=\"sk-estimator-id-1\" class=\"sk-toggleable__label sk-toggleable__label-arrow\">LinearRegression</label><div class=\"sk-toggleable__content\"><pre>LinearRegression()</pre></div></div></div></div></div>"
      ],
      "text/plain": [
       "LinearRegression()"
      ]
     },
     "execution_count": 69,
     "metadata": {},
     "output_type": "execute_result"
    }
   ],
   "source": [
    "lr=LinearRegression()\n",
    "lr.fit(X_train,y_train)"
   ]
  },
  {
   "cell_type": "code",
   "execution_count": 122,
   "id": "2c03c50a",
   "metadata": {},
   "outputs": [],
   "source": [
    "import pickle\n",
    "with open(\"safety_stock_model.pickle\",\"wb\") as f:\n",
    "    pickle.dump(lr,f)"
   ]
  },
  {
   "cell_type": "code",
   "execution_count": 70,
   "id": "ad089f92",
   "metadata": {},
   "outputs": [],
   "source": [
    "y_pred=pd.DataFrame(lr.predict(X_test))"
   ]
  },
  {
   "cell_type": "code",
   "execution_count": 72,
   "id": "70ab63a4",
   "metadata": {},
   "outputs": [
    {
     "name": "stdout",
     "output_type": "stream",
     "text": [
      "1300.0310936543854\n"
     ]
    },
    {
     "data": {
      "text/plain": [
       "0.8370120182808967"
      ]
     },
     "execution_count": 72,
     "metadata": {},
     "output_type": "execute_result"
    }
   ],
   "source": [
    "from sklearn.metrics import r2_score,mean_squared_error\n",
    "print(mean_squared_error(y_pred,y_test))\n",
    "r2_score(y_pred,y_test)"
   ]
  },
  {
   "cell_type": "code",
   "execution_count": null,
   "id": "5490180d",
   "metadata": {},
   "outputs": [],
   "source": []
  }
 ],
 "metadata": {
  "kernelspec": {
   "display_name": "Python 3 (ipykernel)",
   "language": "python",
   "name": "python3"
  },
  "language_info": {
   "codemirror_mode": {
    "name": "ipython",
    "version": 3
   },
   "file_extension": ".py",
   "mimetype": "text/x-python",
   "name": "python",
   "nbconvert_exporter": "python",
   "pygments_lexer": "ipython3",
   "version": "3.11.4"
  }
 },
 "nbformat": 4,
 "nbformat_minor": 5
}
